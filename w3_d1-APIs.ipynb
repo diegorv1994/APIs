{
 "cells": [
  {
   "cell_type": "code",
   "execution_count": null,
   "metadata": {},
   "outputs": [],
   "source": [
    "# APIs\n",
    "\n",
    "import pandas as pd\n",
    "import json\n",
    "import requests"
   ]
  },
  {
   "cell_type": "code",
   "execution_count": null,
   "metadata": {},
   "outputs": [],
   "source": [
    "URL='https://jsonplaceholder.typicode.com/todos'\n",
    "res=requests.get(URL)\n",
    "res\n",
    "\n",
    "#https://en.wikipedia.org/wiki/List_of_HTTP_status_codes"
   ]
  },
  {
   "cell_type": "code",
   "execution_count": null,
   "metadata": {},
   "outputs": [],
   "source": [
    "results=res.json()\n",
    "results[0]"
   ]
  },
  {
   "cell_type": "code",
   "execution_count": null,
   "metadata": {},
   "outputs": [],
   "source": [
    "data=pd.DataFrame(results)\n",
    "data.head()"
   ]
  },
  {
   "cell_type": "code",
   "execution_count": null,
   "metadata": {},
   "outputs": [],
   "source": [
    "# Api github\n",
    "URL='https://api.github.com/events'\n",
    "resp=requests.get(URL)\n",
    "resp"
   ]
  },
  {
   "cell_type": "code",
   "execution_count": null,
   "metadata": {},
   "outputs": [],
   "source": [
    "data=pd.DataFrame(resp.json())\n",
    "data.head()"
   ]
  },
  {
   "cell_type": "code",
   "execution_count": null,
   "metadata": {},
   "outputs": [],
   "source": [
    "def flatten(data, col):\n",
    "    for c in col:\n",
    "        fl=pd.DataFrame(dict(data[c])).T\n",
    "        cols=[str(col) for col in fl.columns]\n",
    "        fl.columns=[c+'-'+name for name in cols]\n",
    "        data=pd.concat([data, fl], axis=1)\n",
    "        data=data.drop(c, axis=1)\n",
    "    return data"
   ]
  },
  {
   "cell_type": "code",
   "execution_count": null,
   "metadata": {},
   "outputs": [],
   "source": [
    "nested_cols=['actor', 'org', 'repo', 'payload']\n",
    "flat=flatten(data, nested_cols)\n",
    "flat.head()"
   ]
  },
  {
   "cell_type": "code",
   "execution_count": null,
   "metadata": {},
   "outputs": [],
   "source": [
    "from pandas.io.json import json_normalize\n",
    "\n",
    "flattened=json_normalize(resp.json())\n",
    "flattened.head()"
   ]
  },
  {
   "cell_type": "code",
   "execution_count": null,
   "metadata": {},
   "outputs": [],
   "source": [
    "# tweeter\n",
    "# https://developer.twitter.com/en/apply-for-access.html\n",
    "\n",
    "!pip3 install tweepy"
   ]
  },
  {
   "cell_type": "code",
   "execution_count": null,
   "metadata": {},
   "outputs": [],
   "source": [
    "import tweepy\n",
    "\n",
    "API_KEY='APIKey'\n",
    "API_SECRET='APISecret'\n",
    "ACCESS_TOKEN='AccessToken'\n",
    "SECRET_TOKEN='SecretToken'\n",
    "\n",
    "auth=tweepy.OAuthHandler(API_KEY, API_SECRET)\n",
    "auth.set_access_token(ACCESS_TOKEN, SECRET_TOKEN)\n",
    "\n",
    "api=tweepy.API(auth)\n",
    "api"
   ]
  },
  {
   "cell_type": "code",
   "execution_count": null,
   "metadata": {},
   "outputs": [],
   "source": [
    "def get_followers(user, count=100):\n",
    "    results=api.followers(user, count=count)\n",
    "    followers=[pd.Series(follower.json()) for follower in results]\n",
    "    df=pd.DataFrame(followers)\n",
    "    return df"
   ]
  },
  {
   "cell_type": "code",
   "execution_count": null,
   "metadata": {},
   "outputs": [],
   "source": [
    "ironhack=get_followers('ironhack')\n",
    "ironhack.head()"
   ]
  },
  {
   "cell_type": "code",
   "execution_count": null,
   "metadata": {},
   "outputs": [],
   "source": [
    "# pokeapi\n",
    "\n",
    "res=requests.get('https://pokeapi.co/api/v2/pokemon/25')\n",
    "res.status_code"
   ]
  },
  {
   "cell_type": "code",
   "execution_count": null,
   "metadata": {},
   "outputs": [],
   "source": [
    "type(res.text)"
   ]
  },
  {
   "cell_type": "code",
   "execution_count": null,
   "metadata": {},
   "outputs": [],
   "source": [
    "type(res.json())"
   ]
  },
  {
   "cell_type": "code",
   "execution_count": null,
   "metadata": {},
   "outputs": [],
   "source": [
    "data=res.json()\n",
    "data['name']"
   ]
  },
  {
   "cell_type": "code",
   "execution_count": null,
   "metadata": {},
   "outputs": [],
   "source": [
    "def get_pokemon(num):\n",
    "    res=requests.get('https://pokeapi.co/api/v2/pokemon/{}'.format(num))\n",
    "    data=res.json()\n",
    "    return {'name':data['name'], 'image':data['sprites']['front_default']}"
   ]
  },
  {
   "cell_type": "code",
   "execution_count": null,
   "metadata": {},
   "outputs": [],
   "source": [
    "for i in range(9):\n",
    "    print (get_pokemon(i+1))"
   ]
  },
  {
   "cell_type": "code",
   "execution_count": null,
   "metadata": {},
   "outputs": [],
   "source": [
    "from IPython.display import Image, display_html\n",
    "from IPython.core.display import HTML\n",
    "\n",
    "for i in range(9):\n",
    "    poke=get_pokemon(i+1)\n",
    "    display(Image(url=poke['image']))"
   ]
  },
  {
   "cell_type": "code",
   "execution_count": null,
   "metadata": {},
   "outputs": [],
   "source": [
    "display(HTML(''.join(map(lambda x: '<img src=\"{}\" style=\"display:inline-block\">'.format(x['image']), map(get_pokemon, range(1,10))))))"
   ]
  },
  {
   "cell_type": "code",
   "execution_count": null,
   "metadata": {},
   "outputs": [],
   "source": [
    "res=requests.get('https://pokeapi.co/api/v2/pokemon?limit=3&offset=1')\n",
    "res.json()"
   ]
  },
  {
   "cell_type": "code",
   "execution_count": null,
   "metadata": {},
   "outputs": [],
   "source": [
    "query={'limit':3, 'offset':1}\n",
    "res=requests.get('https://pokeapi.co/api/v2/pokemon', params=query)\n",
    "res.json()"
   ]
  },
  {
   "cell_type": "code",
   "execution_count": null,
   "metadata": {},
   "outputs": [],
   "source": [
    "import smtplib\n",
    "import getpass\n",
    "\n",
    "# sending emails\n",
    "# https://docs.python.org/3.4/library/email-examples.html\n",
    "\n",
    "gmail_user = input(\"Introduce tu gmail: \")\n",
    "gmail_password = getpass.getpass(\"Introduce tu password: \")\n",
    "\n",
    "try:  \n",
    "    server = smtplib.SMTP_SSL('smtp.gmail.com', 465)\n",
    "    server.ehlo()\n",
    "    server.login(gmail_user, gmail_password)\n",
    "    print(\"Conectado.\")\n",
    "except:  \n",
    "    print(\"Algo va mal...\")"
   ]
  },
  {
   "cell_type": "code",
   "execution_count": null,
   "metadata": {},
   "outputs": [],
   "source": [
    "# Mail Content\n",
    "from_mail = gmail_user\n",
    "to = input(\"A quien se lo envias? \")\n",
    "body = \"Hola!! que tal?\"\n",
    "\n",
    "# Send the mail to SMTP gmail server\n",
    "server.sendmail(from_mail, to, body)\n",
    "\n",
    "# Want more? https://stackoverflow.com/questions/882712/sending-html-email-using-python\n",
    "\n",
    "server.close()"
   ]
  },
  {
   "cell_type": "code",
   "execution_count": null,
   "metadata": {},
   "outputs": [],
   "source": []
  }
 ],
 "metadata": {
  "kernelspec": {
   "display_name": "Python 3",
   "language": "python",
   "name": "python3"
  },
  "language_info": {
   "codemirror_mode": {
    "name": "ipython",
    "version": 3
   },
   "file_extension": ".py",
   "mimetype": "text/x-python",
   "name": "python",
   "nbconvert_exporter": "python",
   "pygments_lexer": "ipython3",
   "version": "3.7.5"
  }
 },
 "nbformat": 4,
 "nbformat_minor": 2
}
